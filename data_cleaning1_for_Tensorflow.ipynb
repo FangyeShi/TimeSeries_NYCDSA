{
 "cells": [
  {
   "cell_type": "code",
   "execution_count": 1,
   "metadata": {},
   "outputs": [],
   "source": [
    "import numpy as np\n",
    "import pandas as pd"
   ]
  },
  {
   "cell_type": "code",
   "execution_count": 2,
   "metadata": {},
   "outputs": [],
   "source": [
    "btc_daily = pd.read_csv('BTC-USD.csv')\n",
    "\n",
    "btc_daily['Date'] = pd.to_datetime(btc_daily['Date'],format=\"%Y-%m-%d\")"
   ]
  },
  {
   "cell_type": "code",
   "execution_count": 72,
   "metadata": {},
   "outputs": [
    {
     "name": "stdout",
     "output_type": "stream",
     "text": [
      "2975\n",
      "2975\n"
     ]
    }
   ],
   "source": [
    "print(len(btc_daily['Date']))\n",
    "print(len(btc_daily['Date'].unique()))\n",
    "\n",
    "# there should be 2975 unique days ranging from 2010/7/17 to 2018/9/7"
   ]
  },
  {
   "cell_type": "code",
   "execution_count": 8,
   "metadata": {
    "scrolled": false
   },
   "outputs": [
    {
     "name": "stderr",
     "output_type": "stream",
     "text": [
      "D:\\Users\\shif3\\Anaconda3\\lib\\site-packages\\ipykernel_launcher.py:1: SettingWithCopyWarning: \n",
      "A value is trying to be set on a copy of a slice from a DataFrame\n",
      "\n",
      "See the caveats in the documentation: http://pandas.pydata.org/pandas-docs/stable/indexing.html#indexing-view-versus-copy\n",
      "  \"\"\"Entry point for launching an IPython kernel.\n"
     ]
    }
   ],
   "source": [
    "btc_daily['Date'][0:107] = btc_daily['Date'][0:107]+pd.Timedelta(days=1)\n",
    "\n",
    "btc_daily['Date'][254:] = btc_daily['Date'][254:]+pd.Timedelta(days=1)\n",
    "\n",
    "btc_daily['Date'][471:617] = btc_daily['Date'][471:617]-pd.Timedelta(days=1)\n",
    "\n",
    "btc_daily['Date'][617] = btc_daily['Date'][617]-pd.Timedelta(days=1)\n",
    "\n",
    "btc_daily['Date'][618] = btc_daily['Date'][618]+pd.Timedelta(days=1)\n",
    "\n",
    "btc_daily['Date'][835:989] = btc_daily['Date'][835:989] - pd.Timedelta(days=1)\n",
    "\n",
    "btc_daily['Date'][1199:1353] = btc_daily['Date'][1199:1353] - pd.Timedelta(days=1)\n",
    "\n",
    "btc_daily['Date'][1563:1717] = btc_daily['Date'][1563:1717] - pd.Timedelta(days=1)\n",
    "\n",
    "btc_daily['Date'][1927:2081] = btc_daily['Date'][1927:2081] - pd.Timedelta(days=1)\n",
    "\n",
    "btc_daily['Date'][2298:2445] = btc_daily['Date'][2298:2445] - pd.Timedelta(days=1)\n",
    "\n",
    "btc_daily['Date'][2662:2809] = btc_daily['Date'][2662:2809] - pd.Timedelta(days=1)"
   ]
  },
  {
   "cell_type": "code",
   "execution_count": 76,
   "metadata": {},
   "outputs": [
    {
     "name": "stdout",
     "output_type": "stream",
     "text": [
      "2504\n",
      "2647\n",
      "2650\n",
      "2661\n",
      "2663\n",
      "2666\n",
      "2670\n",
      "2678\n",
      "2681\n",
      "2683\n",
      "2687\n",
      "2690\n",
      "2692\n",
      "2693\n",
      "2696\n",
      "2697\n",
      "2699\n",
      "2700\n",
      "2701\n",
      "2702\n",
      "2703\n",
      "2704\n",
      "2708\n",
      "2709\n",
      "2711\n",
      "2712\n",
      "2713\n",
      "2716\n",
      "2718\n",
      "2719\n",
      "2720\n",
      "2721\n",
      "2722\n",
      "2723\n",
      "2727\n",
      "2730\n",
      "2733\n",
      "2734\n",
      "2737\n",
      "2739\n",
      "2744\n",
      "2747\n",
      "2748\n",
      "2750\n",
      "2751\n",
      "2753\n",
      "2754\n",
      "2757\n",
      "2760\n",
      "2762\n",
      "2763\n",
      "2773\n",
      "2775\n",
      "2787\n",
      "2788\n",
      "2794\n",
      "2795\n",
      "2797\n",
      "2798\n",
      "2800\n",
      "2803\n",
      "2806\n",
      "2807\n",
      "2808\n",
      "2815\n",
      "2827\n",
      "2835\n",
      "2837\n",
      "2838\n",
      "2840\n",
      "2842\n",
      "2843\n",
      "2844\n",
      "2847\n",
      "2848\n",
      "2849\n",
      "2850\n",
      "2851\n",
      "2853\n",
      "2855\n",
      "2856\n",
      "2860\n",
      "2864\n",
      "2875\n",
      "2879\n",
      "2882\n",
      "2889\n",
      "2893\n",
      "2898\n",
      "2901\n",
      "2903\n",
      "2906\n",
      "2907\n",
      "2908\n",
      "2909\n",
      "2918\n",
      "2919\n",
      "2924\n",
      "2930\n",
      "2931\n",
      "2936\n",
      "2941\n",
      "2946\n",
      "2948\n",
      "2956\n",
      "2959\n",
      "2961\n",
      "2963\n",
      "2965\n",
      "109\n"
     ]
    }
   ],
   "source": [
    "tempsum1 = 0\n",
    "for i in range(0,len(btc_daily['Date'])-1):\n",
    "    if abs(btc_daily.iloc[i,5] - btc_daily.iloc[i+1,1])>.1:\n",
    "        tempsum1= tempsum1+1\n",
    "        print(i)\n",
    "print(tempsum1)\n",
    "\n",
    "# previous day's close should be today's open... but this is violated 100's times"
   ]
  },
  {
   "cell_type": "code",
   "execution_count": 77,
   "metadata": {},
   "outputs": [
    {
     "data": {
      "text/html": [
       "<div>\n",
       "<style scoped>\n",
       "    .dataframe tbody tr th:only-of-type {\n",
       "        vertical-align: middle;\n",
       "    }\n",
       "\n",
       "    .dataframe tbody tr th {\n",
       "        vertical-align: top;\n",
       "    }\n",
       "\n",
       "    .dataframe thead th {\n",
       "        text-align: right;\n",
       "    }\n",
       "</style>\n",
       "<table border=\"1\" class=\"dataframe\">\n",
       "  <thead>\n",
       "    <tr style=\"text-align: right;\">\n",
       "      <th></th>\n",
       "      <th>Date</th>\n",
       "      <th>Open</th>\n",
       "      <th>High</th>\n",
       "      <th>Low</th>\n",
       "      <th>Close</th>\n",
       "      <th>Adj Close</th>\n",
       "      <th>Volume</th>\n",
       "    </tr>\n",
       "  </thead>\n",
       "  <tbody>\n",
       "    <tr>\n",
       "      <th>0</th>\n",
       "      <td>2010-07-17</td>\n",
       "      <td>0.049510</td>\n",
       "      <td>0.049510</td>\n",
       "      <td>0.049510</td>\n",
       "      <td>0.049510</td>\n",
       "      <td>0.049510</td>\n",
       "      <td>0</td>\n",
       "    </tr>\n",
       "    <tr>\n",
       "      <th>338</th>\n",
       "      <td>2011-06-20</td>\n",
       "      <td>17.510000</td>\n",
       "      <td>17.510000</td>\n",
       "      <td>17.510000</td>\n",
       "      <td>17.510000</td>\n",
       "      <td>17.510000</td>\n",
       "      <td>0</td>\n",
       "    </tr>\n",
       "    <tr>\n",
       "      <th>339</th>\n",
       "      <td>2011-06-21</td>\n",
       "      <td>17.510000</td>\n",
       "      <td>17.510000</td>\n",
       "      <td>17.510000</td>\n",
       "      <td>17.510000</td>\n",
       "      <td>17.510000</td>\n",
       "      <td>0</td>\n",
       "    </tr>\n",
       "    <tr>\n",
       "      <th>340</th>\n",
       "      <td>2011-06-22</td>\n",
       "      <td>17.510000</td>\n",
       "      <td>17.510000</td>\n",
       "      <td>17.510000</td>\n",
       "      <td>17.510000</td>\n",
       "      <td>17.510000</td>\n",
       "      <td>0</td>\n",
       "    </tr>\n",
       "    <tr>\n",
       "      <th>341</th>\n",
       "      <td>2011-06-23</td>\n",
       "      <td>17.510000</td>\n",
       "      <td>17.510000</td>\n",
       "      <td>17.510000</td>\n",
       "      <td>17.510000</td>\n",
       "      <td>17.510000</td>\n",
       "      <td>0</td>\n",
       "    </tr>\n",
       "    <tr>\n",
       "      <th>342</th>\n",
       "      <td>2011-06-24</td>\n",
       "      <td>17.510000</td>\n",
       "      <td>17.510000</td>\n",
       "      <td>17.510000</td>\n",
       "      <td>17.510000</td>\n",
       "      <td>17.510000</td>\n",
       "      <td>0</td>\n",
       "    </tr>\n",
       "    <tr>\n",
       "      <th>343</th>\n",
       "      <td>2011-06-25</td>\n",
       "      <td>17.510000</td>\n",
       "      <td>17.510000</td>\n",
       "      <td>17.510000</td>\n",
       "      <td>17.510000</td>\n",
       "      <td>17.510000</td>\n",
       "      <td>0</td>\n",
       "    </tr>\n",
       "    <tr>\n",
       "      <th>2948</th>\n",
       "      <td>2018-08-12</td>\n",
       "      <td>6091.140137</td>\n",
       "      <td>6091.140137</td>\n",
       "      <td>6091.140137</td>\n",
       "      <td>6091.140137</td>\n",
       "      <td>6091.140137</td>\n",
       "      <td>0</td>\n",
       "    </tr>\n",
       "  </tbody>\n",
       "</table>\n",
       "</div>"
      ],
      "text/plain": [
       "           Date         Open         High          Low        Close  \\\n",
       "0    2010-07-17     0.049510     0.049510     0.049510     0.049510   \n",
       "338  2011-06-20    17.510000    17.510000    17.510000    17.510000   \n",
       "339  2011-06-21    17.510000    17.510000    17.510000    17.510000   \n",
       "340  2011-06-22    17.510000    17.510000    17.510000    17.510000   \n",
       "341  2011-06-23    17.510000    17.510000    17.510000    17.510000   \n",
       "342  2011-06-24    17.510000    17.510000    17.510000    17.510000   \n",
       "343  2011-06-25    17.510000    17.510000    17.510000    17.510000   \n",
       "2948 2018-08-12  6091.140137  6091.140137  6091.140137  6091.140137   \n",
       "\n",
       "        Adj Close  Volume  \n",
       "0        0.049510       0  \n",
       "338     17.510000       0  \n",
       "339     17.510000       0  \n",
       "340     17.510000       0  \n",
       "341     17.510000       0  \n",
       "342     17.510000       0  \n",
       "343     17.510000       0  \n",
       "2948  6091.140137       0  "
      ]
     },
     "execution_count": 77,
     "metadata": {},
     "output_type": "execute_result"
    }
   ],
   "source": [
    "btc_daily[btc_daily['Volume']==0]\n",
    "\n",
    "# there are 7 days with no volume at all...looks very weird..."
   ]
  },
  {
   "cell_type": "code",
   "execution_count": 78,
   "metadata": {},
   "outputs": [],
   "source": [
    "btc_daily.to_csv('btc_daily_all.csv',index=False)"
   ]
  },
  {
   "cell_type": "code",
   "execution_count": 81,
   "metadata": {},
   "outputs": [],
   "source": [
    "sp500_daily = pd.read_csv('^GSPC.csv')\n",
    "\n",
    "sp500_daily['Date'] = pd.to_datetime(sp500_daily['Date'],format=\"%Y-%m-%d\")"
   ]
  },
  {
   "cell_type": "code",
   "execution_count": 85,
   "metadata": {},
   "outputs": [
    {
     "name": "stdout",
     "output_type": "stream",
     "text": [
      "2051\n",
      "2051\n"
     ]
    }
   ],
   "source": [
    "print(len(sp500_daily['Date']))\n",
    "print(len(sp500_daily['Date'].unique()))\n",
    "\n",
    "# this dataset is already clean...\n",
    "# dates range from 2010/7/19 to 2018/9/7 excludes holidays/weekends etc..."
   ]
  },
  {
   "cell_type": "code",
   "execution_count": 87,
   "metadata": {},
   "outputs": [],
   "source": [
    "n225 = pd.read_csv('^N225.csv')\n",
    "\n",
    "n225['Date'] = pd.to_datetime(n225['Date'],format=\"%Y-%m-%d\")"
   ]
  },
  {
   "cell_type": "code",
   "execution_count": 92,
   "metadata": {},
   "outputs": [
    {
     "name": "stdout",
     "output_type": "stream",
     "text": [
      "2014\n",
      "2014\n"
     ]
    }
   ],
   "source": [
    "print(len(n225['Date']))\n",
    "print(len(n225['Date'].unique()))\n",
    "\n",
    "# this dataset is already clean...\n",
    "# dates range from 2010/7/21 to 2018/9/7 excludes holidays/weekends etc...\n",
    "# there are some na values corresponding to market being closed?\n",
    "# note the values are in JPY"
   ]
  },
  {
   "cell_type": "code",
   "execution_count": 95,
   "metadata": {},
   "outputs": [],
   "source": [
    "sxxp = pd.read_csv('^SXXP.csv')\n",
    "\n",
    "sxxp['Date'] = pd.to_datetime(sxxp['Date'],format=\"%m/%d/%y\")"
   ]
  },
  {
   "cell_type": "code",
   "execution_count": 99,
   "metadata": {},
   "outputs": [
    {
     "name": "stdout",
     "output_type": "stream",
     "text": [
      "2093\n",
      "2093\n"
     ]
    }
   ],
   "source": [
    "print(len(sxxp['Date']))\n",
    "print(len(sxxp['Date'].unique()))\n",
    "\n",
    "# this dataset is already clean...\n",
    "# dates range from 2010/7/19 to 2018/9/7 excludes holidays/weedends etc...\n",
    "# note the values are in EUR"
   ]
  },
  {
   "cell_type": "code",
   "execution_count": 102,
   "metadata": {},
   "outputs": [],
   "source": [
    "metal1 = pd.read_csv('londonfixes.csv')"
   ]
  },
  {
   "cell_type": "code",
   "execution_count": 107,
   "metadata": {},
   "outputs": [],
   "source": [
    "metal1.drop(['Unnamed: 4','Unnamed: 5','Unnamed: 6','Unnamed: 7'],axis=1,inplace=True)\n",
    "\n",
    "metal1.columns = ['Date','Gold_am','Gold_pm','Silver']\n",
    "\n",
    "metal1.drop([0,1,2],axis=0,inplace=True)\n",
    "\n",
    "metal1.reset_index(drop=True,inplace=True)"
   ]
  },
  {
   "cell_type": "code",
   "execution_count": 118,
   "metadata": {},
   "outputs": [],
   "source": [
    "metal2 = pd.read_csv('londonfixes-current.csv')"
   ]
  },
  {
   "cell_type": "code",
   "execution_count": 120,
   "metadata": {},
   "outputs": [],
   "source": [
    "metal2.columns = ['Date','Gold_am','Gold_pm','Silver']\n",
    "\n",
    "metal2.drop([0,1,2],axis=0,inplace=True)\n",
    "\n",
    "metal2.reset_index(drop=True,inplace=True)"
   ]
  },
  {
   "cell_type": "code",
   "execution_count": 128,
   "metadata": {},
   "outputs": [],
   "source": [
    "metal = pd.concat([metal1,metal2]).reset_index(drop=True)"
   ]
  },
  {
   "cell_type": "code",
   "execution_count": 130,
   "metadata": {},
   "outputs": [],
   "source": [
    "metal['Date'] = pd.to_datetime(metal['Date'],format=\"%d/%m/%y\")"
   ]
  },
  {
   "cell_type": "code",
   "execution_count": 143,
   "metadata": {},
   "outputs": [],
   "source": [
    "# this is how to drop rows that satisfy some conditions...\n",
    "metal = metal.drop(metal[metal['Gold_am'].isna()].index,axis=0)"
   ]
  },
  {
   "cell_type": "code",
   "execution_count": 146,
   "metadata": {},
   "outputs": [],
   "source": [
    "metal.reset_index(drop=True,inplace=True)"
   ]
  },
  {
   "cell_type": "code",
   "execution_count": 149,
   "metadata": {},
   "outputs": [
    {
     "name": "stdout",
     "output_type": "stream",
     "text": [
      "2058\n",
      "2058\n"
     ]
    }
   ],
   "source": [
    "print(len(metal['Date']))\n",
    "print(len(metal['Date'].unique()))\n",
    "\n",
    "# now the data is relatively clean\n",
    "# we will use Gold_am and Silver... Gold_pm has some missing values\n",
    "# dates range from 2010/7/19 to 2018/9/7"
   ]
  },
  {
   "cell_type": "code",
   "execution_count": 151,
   "metadata": {},
   "outputs": [],
   "source": [
    "metal.to_csv('metal.csv',index=False)"
   ]
  },
  {
   "cell_type": "code",
   "execution_count": 152,
   "metadata": {},
   "outputs": [],
   "source": [
    "vix = pd.read_csv('^VIX.csv')\n",
    "\n",
    "vix['Date'] = pd.to_datetime(vix['Date'],format=\"%Y-%m-%d\")"
   ]
  },
  {
   "cell_type": "code",
   "execution_count": 155,
   "metadata": {},
   "outputs": [
    {
     "name": "stdout",
     "output_type": "stream",
     "text": [
      "2051\n",
      "2051\n"
     ]
    }
   ],
   "source": [
    "print(len(vix['Date']))\n",
    "print(len(vix['Date'].unique()))\n",
    "\n",
    "# this dataset is already clean...\n",
    "# dates range from 2010/7/19 to 2018/9/7 excludes holidays/weedends etc..."
   ]
  },
  {
   "cell_type": "code",
   "execution_count": 160,
   "metadata": {},
   "outputs": [],
   "source": [
    "dxsq = pd.read_csv('DXSQ.F.csv')\n",
    "\n",
    "dxsq['Date'] = pd.to_datetime(dxsq['Date'],format=\"%Y-%m-%d\")"
   ]
  },
  {
   "cell_type": "code",
   "execution_count": 163,
   "metadata": {},
   "outputs": [
    {
     "name": "stdout",
     "output_type": "stream",
     "text": [
      "2069\n",
      "2069\n"
     ]
    }
   ],
   "source": [
    "print(len(dxsq['Date']))\n",
    "print(len(dxsq['Date'].unique()))\n",
    "\n",
    "# this dataset is already clean...\n",
    "# dates range from 2010/7/19 to 2018/9/7 excludes holidays/weekends etc...\n",
    "# note the values are in EUR"
   ]
  },
  {
   "cell_type": "code",
   "execution_count": 2,
   "metadata": {},
   "outputs": [],
   "source": [
    "int1mo = pd.read_csv('DGS1MO.csv')\n",
    "\n",
    "int1mo.columns = ['Date','Rate']\n",
    "\n",
    "int1mo['Date'] = pd.to_datetime(int1mo['Date'],format=\"%Y-%m-%d\")\n",
    "\n",
    "int1mo.drop(int1mo[int1mo['Rate']=='.'].index,axis=0,inplace=True)\n",
    "\n",
    "int1mo.reset_index(drop=True,inplace=True)\n",
    "\n",
    "int1mo['Rate'] = int1mo['Rate'].apply(lambda x:float(x))\n",
    "\n",
    "int1mo.to_csv('ustreasuryrates_1mo.csv',index=False)"
   ]
  },
  {
   "cell_type": "code",
   "execution_count": 5,
   "metadata": {},
   "outputs": [
    {
     "name": "stdout",
     "output_type": "stream",
     "text": [
      "2039\n",
      "2039\n"
     ]
    }
   ],
   "source": [
    "print(len(int1mo['Date']))\n",
    "print(len(int1mo['Date'].unique()))\n",
    "\n",
    "# this dataset is now clean...\n",
    "# dates range from 2010/7/19 to 2018/9/7 excludes holidays/weekends etc..."
   ]
  },
  {
   "cell_type": "code",
   "execution_count": 4,
   "metadata": {},
   "outputs": [],
   "source": [
    "int10y = pd.read_csv('DGS10.csv')\n",
    "\n",
    "int10y.columns = ['Date','Rate']\n",
    "\n",
    "int10y['Date'] = pd.to_datetime(int10y['Date'],format=\"%Y-%m-%d\")\n",
    "\n",
    "int10y.drop(int10y[int10y['Rate']=='.'].index,axis=0,inplace=True)\n",
    "\n",
    "int10y.reset_index(drop=True,inplace=True)\n",
    "\n",
    "int10y['Rate'] = int10y['Rate'].apply(lambda x:float(x))\n",
    "\n",
    "int10y.to_csv('ustreasuryrates_10y.csv',index=False)"
   ]
  },
  {
   "cell_type": "code",
   "execution_count": 6,
   "metadata": {},
   "outputs": [
    {
     "name": "stdout",
     "output_type": "stream",
     "text": [
      "2039\n",
      "2039\n"
     ]
    }
   ],
   "source": [
    "print(len(int10y['Date']))\n",
    "print(len(int10y['Date'].unique()))\n",
    "\n",
    "# this dataset is now clean...\n",
    "# dates range from 2010/7/19 to 2018/9/7 excludes holidays/weekends etc..."
   ]
  },
  {
   "cell_type": "code",
   "execution_count": 204,
   "metadata": {},
   "outputs": [],
   "source": [
    "eur_usd = pd.read_csv('EUR_USD.csv')\n",
    "\n",
    "eur_usd['timestamp'] = pd.to_datetime(eur_usd['timestamp'],format=\"%Y-%m-%d\")"
   ]
  },
  {
   "cell_type": "code",
   "execution_count": 207,
   "metadata": {},
   "outputs": [
    {
     "name": "stdout",
     "output_type": "stream",
     "text": [
      "2337\n",
      "2337\n"
     ]
    }
   ],
   "source": [
    "print(len(eur_usd['timestamp']))\n",
    "print(len(eur_usd['timestamp'].unique()))\n",
    "\n",
    "# dates range from 2010/7/19 to 2018/9/7 excludes holidays/weekends etc..."
   ]
  },
  {
   "cell_type": "code",
   "execution_count": 210,
   "metadata": {},
   "outputs": [],
   "source": [
    "usd_jpy = pd.read_csv('USD_JPY.csv')\n",
    "\n",
    "usd_jpy['timestamp'] = pd.to_datetime(usd_jpy['timestamp'],format=\"%Y-%m-%d\")"
   ]
  },
  {
   "cell_type": "code",
   "execution_count": 212,
   "metadata": {},
   "outputs": [
    {
     "name": "stdout",
     "output_type": "stream",
     "text": [
      "2334\n",
      "2334\n"
     ]
    }
   ],
   "source": [
    "print(len(usd_jpy['timestamp']))\n",
    "print(len(usd_jpy['timestamp'].unique()))\n",
    "\n",
    "# dates range from 2010/7/19 to 2018/9/7 excludes holidays/weekends etc..."
   ]
  },
  {
   "cell_type": "code",
   "execution_count": 2,
   "metadata": {},
   "outputs": [],
   "source": [
    "eth_daily = pd.read_csv('ETH-USD.csv')\n",
    "\n",
    "eth_daily['Date'] = pd.to_datetime(eth_daily['Date'],format=\"%Y-%m-%d\")"
   ]
  },
  {
   "cell_type": "code",
   "execution_count": 26,
   "metadata": {},
   "outputs": [
    {
     "name": "stdout",
     "output_type": "stream",
     "text": [
      "1128\n",
      "1128\n"
     ]
    }
   ],
   "source": [
    "print(len(eth_daily['Date']))\n",
    "print(len(eth_daily['Date'].unique()))\n",
    "\n",
    "# dates range from 2015/8/7 to 2018/9/7"
   ]
  },
  {
   "cell_type": "code",
   "execution_count": 22,
   "metadata": {},
   "outputs": [],
   "source": [
    "for i in range(1127):\n",
    "    if eth_daily['Date'][i]+pd.Timedelta(days=1) != eth_daily['Date'][i+1]:\n",
    "        print(i)"
   ]
  },
  {
   "cell_type": "code",
   "execution_count": 10,
   "metadata": {},
   "outputs": [
    {
     "name": "stderr",
     "output_type": "stream",
     "text": [
      "D:\\Users\\shif3\\Anaconda3\\lib\\site-packages\\ipykernel_launcher.py:1: SettingWithCopyWarning: \n",
      "A value is trying to be set on a copy of a slice from a DataFrame\n",
      "\n",
      "See the caveats in the documentation: http://pandas.pydata.org/pandas-docs/stable/indexing.html#indexing-view-versus-copy\n",
      "  \"\"\"Entry point for launching an IPython kernel.\n"
     ]
    }
   ],
   "source": [
    "eth_daily['Date'][80:234] = eth_daily['Date'][80:234]-pd.Timedelta(days=1)\n",
    "\n",
    "eth_daily['Date'][451:598] = eth_daily['Date'][451:598]-pd.Timedelta(days=1)\n",
    "\n",
    "eth_daily['Date'][815:962] = eth_daily['Date'][815:962] - pd.Timedelta(days=1)\n",
    "\n",
    "eth_daily['Date'] = eth_daily['Date']+pd.Timedelta(days=1)"
   ]
  },
  {
   "cell_type": "code",
   "execution_count": 30,
   "metadata": {},
   "outputs": [],
   "source": [
    "eth_daily.to_csv('eth_daily_all.csv',index=False)"
   ]
  },
  {
   "cell_type": "code",
   "execution_count": 31,
   "metadata": {},
   "outputs": [],
   "source": [
    "xrp_daily = pd.read_csv('XRP-USD.csv')\n",
    "\n",
    "xrp_daily['Date'] = pd.to_datetime(xrp_daily['Date'],format=\"%Y-%m-%d\")"
   ]
  },
  {
   "cell_type": "code",
   "execution_count": 53,
   "metadata": {},
   "outputs": [
    {
     "name": "stdout",
     "output_type": "stream",
     "text": [
      "1326\n",
      "1326\n"
     ]
    }
   ],
   "source": [
    "print(len(xrp_daily['Date']))\n",
    "print(len(xrp_daily['Date'].unique()))\n",
    "\n",
    "# dates range from 2015/1/21 to 2018/9/7"
   ]
  },
  {
   "cell_type": "code",
   "execution_count": 54,
   "metadata": {},
   "outputs": [],
   "source": [
    "for i in range(1325):\n",
    "    if xrp_daily['Date'][i]+pd.Timedelta(days=1) != xrp_daily['Date'][i+1]:\n",
    "        print(i)"
   ]
  },
  {
   "cell_type": "code",
   "execution_count": 38,
   "metadata": {
    "scrolled": true
   },
   "outputs": [
    {
     "name": "stderr",
     "output_type": "stream",
     "text": [
      "D:\\Users\\shif3\\Anaconda3\\lib\\site-packages\\ipykernel_launcher.py:1: SettingWithCopyWarning: \n",
      "A value is trying to be set on a copy of a slice from a DataFrame\n",
      "\n",
      "See the caveats in the documentation: http://pandas.pydata.org/pandas-docs/stable/indexing.html#indexing-view-versus-copy\n",
      "  \"\"\"Entry point for launching an IPython kernel.\n"
     ]
    }
   ],
   "source": [
    "xrp_daily['Date'][68:278] = xrp_daily['Date'][68:278]+pd.Timedelta(days=1)\n",
    "\n",
    "xrp_daily['Date'][432:649] = xrp_daily['Date'][432:649]+pd.Timedelta(days=1)\n",
    "\n",
    "xrp_daily['Date'][796:1013] = xrp_daily['Date'][796:1013]+pd.Timedelta(days=1)\n",
    "\n",
    "xrp_daily['Date'][1160:] = xrp_daily['Date'][1160:]+ pd.Timedelta(days=1)"
   ]
  },
  {
   "cell_type": "code",
   "execution_count": 58,
   "metadata": {},
   "outputs": [],
   "source": [
    "xrp_daily.to_csv('xrp_daily_all.csv',index=False)"
   ]
  },
  {
   "cell_type": "code",
   "execution_count": 59,
   "metadata": {},
   "outputs": [],
   "source": [
    "ltc_daily = pd.read_csv('LTC-USD.csv')\n",
    "\n",
    "ltc_daily['Date'] = pd.to_datetime(ltc_daily['Date'],format=\"%Y-%m-%d\")"
   ]
  },
  {
   "cell_type": "code",
   "execution_count": 90,
   "metadata": {},
   "outputs": [
    {
     "name": "stdout",
     "output_type": "stream",
     "text": [
      "1780\n",
      "1780\n"
     ]
    }
   ],
   "source": [
    "print(len(ltc_daily['Date']))\n",
    "print(len(ltc_daily['Date'].unique()))\n",
    "\n",
    "# dates range from 2013/10/24 to 2018/9/7"
   ]
  },
  {
   "cell_type": "code",
   "execution_count": 87,
   "metadata": {},
   "outputs": [],
   "source": [
    "for i in range(1778):\n",
    "    if ltc_daily['Date'][i]+pd.Timedelta(days=1) != ltc_daily['Date'][i+1]:\n",
    "        print(i)"
   ]
  },
  {
   "cell_type": "code",
   "execution_count": 66,
   "metadata": {
    "scrolled": true
   },
   "outputs": [
    {
     "name": "stderr",
     "output_type": "stream",
     "text": [
      "D:\\Users\\shif3\\Anaconda3\\lib\\site-packages\\ipykernel_launcher.py:1: SettingWithCopyWarning: \n",
      "A value is trying to be set on a copy of a slice from a DataFrame\n",
      "\n",
      "See the caveats in the documentation: http://pandas.pydata.org/pandas-docs/stable/indexing.html#indexing-view-versus-copy\n",
      "  \"\"\"Entry point for launching an IPython kernel.\n"
     ]
    }
   ],
   "source": [
    "ltc_daily['Date'][4:158] = ltc_daily['Date'][4:158] - pd.Timedelta(days=1)\n",
    "\n",
    "ltc_daily['Date'][368:522] = ltc_daily['Date'][368:522] - pd.Timedelta(days=1)\n",
    "\n",
    "ltc_daily['Date'][732:886] = ltc_daily['Date'][732:886] - pd.Timedelta(days=1)\n",
    "\n",
    "ltc_daily['Date'][1103:1250] = ltc_daily['Date'][1103:1250] - pd.Timedelta(days=1)\n",
    "\n",
    "ltc_daily['Date'][1467:1614] = ltc_daily['Date'][1467:1614] - pd.Timedelta(days=1)\n",
    "\n",
    "ltc_daily['Date'] = ltc_daily['Date'] + pd.Timedelta(days=1)"
   ]
  },
  {
   "cell_type": "code",
   "execution_count": 91,
   "metadata": {},
   "outputs": [],
   "source": [
    "ltc_daily.to_csv('ltc_daily_all.csv',index=False)"
   ]
  },
  {
   "cell_type": "code",
   "execution_count": 94,
   "metadata": {},
   "outputs": [],
   "source": [
    "xmr_daily = pd.read_csv('XMR-USD.csv')\n",
    "\n",
    "xmr_daily['Date'] = pd.to_datetime(xmr_daily['Date'],format=\"%Y-%m-%d\")"
   ]
  },
  {
   "cell_type": "code",
   "execution_count": 113,
   "metadata": {},
   "outputs": [
    {
     "name": "stdout",
     "output_type": "stream",
     "text": [
      "1318\n",
      "1318\n"
     ]
    }
   ],
   "source": [
    "print(len(xmr_daily['Date']))\n",
    "print(len(xmr_daily['Date'].unique()))\n",
    "\n",
    "# dates range from 2015/1/29 to 2018/9/7"
   ]
  },
  {
   "cell_type": "code",
   "execution_count": 114,
   "metadata": {},
   "outputs": [],
   "source": [
    "for i in range(1317):\n",
    "    if xmr_daily['Date'][i]+pd.Timedelta(days=1) != xmr_daily['Date'][i+1]:\n",
    "        print(i)"
   ]
  },
  {
   "cell_type": "code",
   "execution_count": 101,
   "metadata": {},
   "outputs": [
    {
     "name": "stderr",
     "output_type": "stream",
     "text": [
      "D:\\Users\\shif3\\Anaconda3\\lib\\site-packages\\ipykernel_launcher.py:1: SettingWithCopyWarning: \n",
      "A value is trying to be set on a copy of a slice from a DataFrame\n",
      "\n",
      "See the caveats in the documentation: http://pandas.pydata.org/pandas-docs/stable/indexing.html#indexing-view-versus-copy\n",
      "  \"\"\"Entry point for launching an IPython kernel.\n"
     ]
    }
   ],
   "source": [
    "xmr_daily['Date'][60:270] = xmr_daily['Date'][60:270] + pd.Timedelta(days=1)\n",
    "\n",
    "xmr_daily['Date'][424:641] = xmr_daily['Date'][424:641] + pd.Timedelta(days=1)\n",
    "\n",
    "xmr_daily['Date'][788:1005] = xmr_daily['Date'][788:1005] + pd.Timedelta(days=1)\n",
    "\n",
    "xmr_daily['Date'][1152:] = xmr_daily['Date'][1152:] + pd.Timedelta(days=1)"
   ]
  },
  {
   "cell_type": "code",
   "execution_count": 117,
   "metadata": {},
   "outputs": [],
   "source": [
    "xmr_daily.to_csv('xmr_daily_all.csv',index=False)"
   ]
  },
  {
   "cell_type": "code",
   "execution_count": 118,
   "metadata": {},
   "outputs": [],
   "source": [
    "dash_daily = pd.read_csv('DASH-USD.csv')\n",
    "\n",
    "dash_daily['Date'] = pd.to_datetime(dash_daily['Date'],format=\"%Y-%m-%d\")"
   ]
  },
  {
   "cell_type": "code",
   "execution_count": 137,
   "metadata": {
    "scrolled": true
   },
   "outputs": [
    {
     "name": "stdout",
     "output_type": "stream",
     "text": [
      "1673\n",
      "1673\n"
     ]
    }
   ],
   "source": [
    "print(len(dash_daily['Date']))\n",
    "print(len(dash_daily['Date'].unique()))\n",
    "\n",
    "# dates range from 2014/2/8 to 2018/9/7"
   ]
  },
  {
   "cell_type": "code",
   "execution_count": 139,
   "metadata": {},
   "outputs": [],
   "source": [
    "for i in range(1672):\n",
    "    if dash_daily['Date'][i]+pd.Timedelta(days=1) != dash_daily['Date'][i+1]:\n",
    "        print(i)"
   ]
  },
  {
   "cell_type": "code",
   "execution_count": 124,
   "metadata": {},
   "outputs": [
    {
     "name": "stderr",
     "output_type": "stream",
     "text": [
      "D:\\Users\\shif3\\Anaconda3\\lib\\site-packages\\ipykernel_launcher.py:1: SettingWithCopyWarning: \n",
      "A value is trying to be set on a copy of a slice from a DataFrame\n",
      "\n",
      "See the caveats in the documentation: http://pandas.pydata.org/pandas-docs/stable/indexing.html#indexing-view-versus-copy\n",
      "  \"\"\"Entry point for launching an IPython kernel.\n"
     ]
    }
   ],
   "source": [
    "dash_daily['Date'][51:261] = dash_daily['Date'][51:261] + pd.Timedelta(days=1)\n",
    "\n",
    "dash_daily['Date'][415:625] = dash_daily['Date'][415:625] + pd.Timedelta(days=1)\n",
    "\n",
    "dash_daily['Date'][779:996] = dash_daily['Date'][779:996] + pd.Timedelta(days=1)\n",
    "\n",
    "dash_daily['Date'][1143:1360] = dash_daily['Date'][1143:1360] + pd.Timedelta(days=1)\n",
    "\n",
    "dash_daily['Date'][1507:] = dash_daily['Date'][1507:] + pd.Timedelta(days=1)"
   ]
  },
  {
   "cell_type": "code",
   "execution_count": 142,
   "metadata": {},
   "outputs": [],
   "source": [
    "dash_daily.to_csv('dash_daily_all.csv',index=False)"
   ]
  },
  {
   "cell_type": "code",
   "execution_count": 143,
   "metadata": {},
   "outputs": [],
   "source": [
    "xem_daily = pd.read_csv('XEM-USD.csv')\n",
    "\n",
    "xem_daily['Date'] = pd.to_datetime(xem_daily['Date'],format=\"%Y-%m-%d\")"
   ]
  },
  {
   "cell_type": "code",
   "execution_count": 153,
   "metadata": {},
   "outputs": [
    {
     "name": "stdout",
     "output_type": "stream",
     "text": [
      "1257\n",
      "1257\n"
     ]
    }
   ],
   "source": [
    "print(len(xem_daily['Date']))\n",
    "print(len(xem_daily['Date'].unique()))\n",
    "\n",
    "# dates range from 2015/3/31 to 2018/9/7"
   ]
  },
  {
   "cell_type": "code",
   "execution_count": 154,
   "metadata": {},
   "outputs": [],
   "source": [
    "for i in range(1256):\n",
    "    if xem_daily['Date'][i]+pd.Timedelta(days=1) != xem_daily['Date'][i+1]:\n",
    "        print(i)"
   ]
  },
  {
   "cell_type": "code",
   "execution_count": 148,
   "metadata": {},
   "outputs": [
    {
     "name": "stderr",
     "output_type": "stream",
     "text": [
      "D:\\Users\\shif3\\Anaconda3\\lib\\site-packages\\ipykernel_launcher.py:1: SettingWithCopyWarning: \n",
      "A value is trying to be set on a copy of a slice from a DataFrame\n",
      "\n",
      "See the caveats in the documentation: http://pandas.pydata.org/pandas-docs/stable/indexing.html#indexing-view-versus-copy\n",
      "  \"\"\"Entry point for launching an IPython kernel.\n"
     ]
    }
   ],
   "source": [
    "xem_daily['Date'][209:363] = xem_daily['Date'][209:363] - pd.Timedelta(days=1)\n",
    "\n",
    "xem_daily['Date'][580:727] = xem_daily['Date'][580:727] - pd.Timedelta(days=1)\n",
    "\n",
    "xem_daily['Date'][944:1091] = xem_daily['Date'][944:1091] - pd.Timedelta(days=1)\n",
    "\n",
    "xem_daily['Date'] = xem_daily['Date'] + pd.Timedelta(days=1)"
   ]
  },
  {
   "cell_type": "code",
   "execution_count": 158,
   "metadata": {},
   "outputs": [],
   "source": [
    "xem_daily.to_csv('xem_daily_all.csv',index=False)"
   ]
  },
  {
   "cell_type": "code",
   "execution_count": 159,
   "metadata": {},
   "outputs": [],
   "source": [
    "bcn_daily = pd.read_csv('BCN-USD.csv')\n",
    "\n",
    "bcn_daily['Date'] = pd.to_datetime(bcn_daily['Date'],format=\"%Y-%m-%d\")"
   ]
  },
  {
   "cell_type": "code",
   "execution_count": 169,
   "metadata": {},
   "outputs": [
    {
     "name": "stdout",
     "output_type": "stream",
     "text": [
      "1318\n",
      "1318\n"
     ]
    }
   ],
   "source": [
    "print(len(bcn_daily['Date']))\n",
    "print(len(bcn_daily['Date'].unique()))\n",
    "\n",
    "# dates range from 2015/1/29 to 2018/9/7"
   ]
  },
  {
   "cell_type": "code",
   "execution_count": 170,
   "metadata": {},
   "outputs": [],
   "source": [
    "for i in range(1317):\n",
    "    if bcn_daily['Date'][i]+pd.Timedelta(days=1) != bcn_daily['Date'][i+1]:\n",
    "        print(i)"
   ]
  },
  {
   "cell_type": "code",
   "execution_count": 163,
   "metadata": {},
   "outputs": [
    {
     "name": "stderr",
     "output_type": "stream",
     "text": [
      "D:\\Users\\shif3\\Anaconda3\\lib\\site-packages\\ipykernel_launcher.py:1: SettingWithCopyWarning: \n",
      "A value is trying to be set on a copy of a slice from a DataFrame\n",
      "\n",
      "See the caveats in the documentation: http://pandas.pydata.org/pandas-docs/stable/indexing.html#indexing-view-versus-copy\n",
      "  \"\"\"Entry point for launching an IPython kernel.\n"
     ]
    }
   ],
   "source": [
    "bcn_daily['Date'][60:270] = bcn_daily['Date'][60:270] + pd.Timedelta(days=1)\n",
    "\n",
    "bcn_daily['Date'][424:641] = bcn_daily['Date'][424:641] + pd.Timedelta(days=1)\n",
    "\n",
    "bcn_daily['Date'][788:1005] = bcn_daily['Date'][788:1005] + pd.Timedelta(days=1)\n",
    "\n",
    "bcn_daily['Date'][1152:] = bcn_daily['Date'][1152:] + pd.Timedelta(days=1)"
   ]
  },
  {
   "cell_type": "code",
   "execution_count": 174,
   "metadata": {},
   "outputs": [],
   "source": [
    "bcn_daily.to_csv('bcn_daily_all.csv',index=False)"
   ]
  },
  {
   "cell_type": "code",
   "execution_count": 191,
   "metadata": {},
   "outputs": [],
   "source": [
    "btc_hourly = pd.read_csv('btc_hourly.txt')"
   ]
  },
  {
   "cell_type": "code",
   "execution_count": 192,
   "metadata": {},
   "outputs": [
    {
     "data": {
      "text/plain": [
       "(28728, 9)"
      ]
     },
     "execution_count": 192,
     "metadata": {},
     "output_type": "execute_result"
    }
   ],
   "source": [
    "btc_hourly.shape\n",
    "\n",
    "# 1197 days from 2015/5/31 to 2018/9/8\n",
    "# thus has 1197*24 = 28728 rows...\n",
    "# note the time is in UTC!!!"
   ]
  }
 ],
 "metadata": {
  "kernelspec": {
   "display_name": "Python 3",
   "language": "python",
   "name": "python3"
  },
  "language_info": {
   "codemirror_mode": {
    "name": "ipython",
    "version": 3
   },
   "file_extension": ".py",
   "mimetype": "text/x-python",
   "name": "python",
   "nbconvert_exporter": "python",
   "pygments_lexer": "ipython3",
   "version": "3.6.5"
  }
 },
 "nbformat": 4,
 "nbformat_minor": 2
}
